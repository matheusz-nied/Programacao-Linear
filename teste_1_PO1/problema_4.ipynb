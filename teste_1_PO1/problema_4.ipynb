{
 "cells": [
  {
   "cell_type": "markdown",
   "metadata": {},
   "source": [
    "#  Problema da Avela Corporation de produção de laptops\n",
    "\n",
    "A Avela Corporation deseja minimizar os custos de produção e armazenamento de laptops ao longo de quatro trimestres. Para isso, a empresa pode optar por produzir os laptops usando trabalho em tempo regular (com capacidade limitada) ou em horas extras (com custo adicional). A empresa precisa garantir que a demanda trimestral seja atendida, mantendo um nível eficiente de estoque.\n"
   ]
  },
  {
   "cell_type": "markdown",
   "metadata": {},
   "source": [
    "## Configurações do projeto"
   ]
  },
  {
   "cell_type": "code",
   "execution_count": 1,
   "metadata": {},
   "outputs": [
    {
     "name": "stdout",
     "output_type": "stream",
     "text": [
      "AMPL Development Version 20240606 (Linux-5.15.0-1064-azure, 64-bit)\n",
      "Demo license with maintenance expiring 20260131.\n",
      "Using license file \"/home/sehmer/Documents/sync/EMC/PO1/teste_1/.venv/lib/python3.12/site-packages/ampl_module_base/bin/ampl.lic\".\n",
      "\n"
     ]
    }
   ],
   "source": [
    "from amplpy import AMPL, tools\n",
    "ampl = tools.ampl_notebook(\n",
    "modules=[\"highs\"], \n",
    "license_uuid=\"default\",\n",
    "g=globals()) "
   ]
  },
  {
   "cell_type": "markdown",
   "metadata": {},
   "source": [
    "## Definição das Variáveis de Decisão\n"
   ]
  },
  {
   "cell_type": "code",
   "execution_count": 2,
   "metadata": {},
   "outputs": [],
   "source": [
    "%%ampl_eval\n",
    "\n",
    "var Producao_1_reg >= 0, <= 4000;   \n",
    "var Producao_2_reg >= 0, <= 4000;   \n",
    "var Producao_3_reg >= 0, <= 4000;   \n",
    "var Producao_4_reg >= 0, <= 4000;   \n",
    "\n",
    "var Producao_1_extra >= 0;          \n",
    "var Producao_2_extra >= 0;          \n",
    "var Producao_3_extra >= 0;          \n",
    "var Producao_4_extra >= 0;          \n",
    "\n",
    "var Estoque_1 >= 0;                \n",
    "var Estoque_2 >= 0;                \n",
    "var Estoque_3 >= 0;                \n",
    "var Estoque_4 >= 0;                \n",
    "\n",
    "\n",
    "param Demanda_1 := 4000;           \n",
    "param Demanda_2 := 6000;           \n",
    "param Demanda_3 := 7500;           \n",
    "param Demanda_4 := 2500;           \n",
    "\n",
    "param Estoque_inicial := 1000;           "
   ]
  },
  {
   "cell_type": "markdown",
   "metadata": {},
   "source": [
    "## Função Objetivo\n",
    "\n",
    "A função objetivo é minimizar o custo total de produção e armazenamento:\n"
   ]
  },
  {
   "cell_type": "code",
   "execution_count": 3,
   "metadata": {},
   "outputs": [],
   "source": [
    "%%ampl_eval\n",
    "\n",
    "minimize Custo_Total:\n",
    "    4000 * (Producao_1_reg + Producao_2_reg + Producao_3_reg + Producao_4_reg) +\n",
    "    4500 * (Producao_1_extra + Producao_2_extra + Producao_3_extra + Producao_4_extra) +\n",
    "    200 * (Estoque_1 + Estoque_2 + Estoque_3 + Estoque_4);\n"
   ]
  },
  {
   "cell_type": "markdown",
   "metadata": {},
   "source": [
    "## Restrições\n",
    "\n",
    "As restrições garantem que a demanda de cada trimestre seja atendida e que o balanço de estoque seja respeitado:"
   ]
  },
  {
   "cell_type": "code",
   "execution_count": 4,
   "metadata": {},
   "outputs": [],
   "source": [
    "%%ampl_eval\n",
    "\n",
    "subject to Balanço_1:\n",
    "    Estoque_inicial + Producao_1_reg + Producao_1_extra = Demanda_1 + Estoque_1;\n",
    "\n",
    "subject to Balanço_2:\n",
    "    Estoque_1 + Producao_2_reg + Producao_2_extra = Demanda_2 + Estoque_2;\n",
    "\n",
    "subject to Balanço_3:\n",
    "    Estoque_2 + Producao_3_reg + Producao_3_extra = Demanda_3 + Estoque_3;\n",
    "\n",
    "subject to Balanço_4:\n",
    "    Estoque_3 + Producao_4_reg + Producao_4_extra = Demanda_4 + Estoque_4;\n",
    "\n",
    "\n",
    "subject to Estoque_NonNeg:\n",
    "    Estoque_4 >= 0;"
   ]
  },
  {
   "cell_type": "markdown",
   "metadata": {},
   "source": [
    "## Resultados"
   ]
  },
  {
   "cell_type": "code",
   "execution_count": 5,
   "metadata": {},
   "outputs": [
    {
     "name": "stdout",
     "output_type": "stream",
     "text": [
      "HiGHS 1.7.1:HiGHS 1.7.1: optimal solution; objective 78450000\n",
      "5 simplex iterations\n",
      "0 barrier iterations\n",
      "Producao_1_reg = 4000\n",
      "Producao_2_reg = 4000\n",
      "Producao_3_reg = 4000\n",
      "Producao_4_reg = 2500\n",
      "Producao_1_extra = 0\n",
      "Producao_2_extra = 1000\n",
      "Producao_3_extra = 3500\n",
      "Producao_4_extra = 0\n",
      "Estoque_1 = 1000\n",
      "Estoque_2 = 0\n",
      "Estoque_3 = 0\n",
      "Estoque_4 = 0\n",
      "Custo_Total = 78450000\n",
      "\n"
     ]
    }
   ],
   "source": [
    "%%ampl_eval\n",
    "\n",
    "\n",
    "option solver 'highs';  \n",
    "solve;\n",
    "\n",
    "\n",
    "display Producao_1_reg, Producao_2_reg, Producao_3_reg, Producao_4_reg, Producao_1_extra, Producao_2_extra, Producao_3_extra, Producao_4_extra, Estoque_1, Estoque_2, Estoque_3, Estoque_4, Custo_Total;\n"
   ]
  },
  {
   "cell_type": "markdown",
   "metadata": {},
   "source": [
    "\n",
    "\n",
    "### Tabela de Resultados\n",
    "\n",
    "Abaixo está a tabela com a solução ótima obtida pela execução do modelo de programação linear:\n",
    "\n",
    "| Variável             | Valor    |\n",
    "|----------------------|----------|\n",
    "| **Produção Regular no Trimestre 1** | 4000     |\n",
    "| **Produção Regular no Trimestre 2** | 4000     |\n",
    "| **Produção Regular no Trimestre 3** | 4000     |\n",
    "| **Produção Regular no Trimestre 4** | 2500     |\n",
    "| **Produção Extra no Trimestre 1**   | 0        |\n",
    "| **Produção Extra no Trimestre 2**   | 1000     |\n",
    "| **Produção Extra no Trimestre 3**   | 3500     |\n",
    "| **Produção Extra no Trimestre 4**   | 0        |\n",
    "| **Estoque ao Final do Trimestre 1** | 1000     |\n",
    "| **Estoque ao Final do Trimestre 2** | 0        |\n",
    "| **Estoque ao Final do Trimestre 3** | 0        |\n",
    "| **Estoque ao Final do Trimestre 4** | 0        |\n",
    "| **Custo Total**                     | 78,450,000 dólares |\n",
    "\n",
    "### Observações\n",
    "\n",
    "- A Avela Corporation conseguiu atender à demanda de cada trimestre produzindo laptops em tempo regular, complementando com produção em horas extras nos trimestres de maior demanda (trimestres 2 e 3).\n",
    "- Houve um pequeno acúmulo de estoque ao final do primeiro trimestre (1000 laptops), que foi utilizado para atender a demanda nos trimestres seguintes.\n",
    "- Não houve estoque ao final dos trimestres 2, 3 e 4, o que indica que a produção foi ajustada precisamente para atender à demanda e minimizar custos de armazenamento.\n",
    "- O custo total de produção e armazenamento ao longo dos quatro trimestres foi de **78,450,000 dólares**."
   ]
  },
  {
   "cell_type": "markdown",
   "metadata": {},
   "source": [
    "## Análise de Sensibilidade\n",
    "\n",
    "A análise de sensibilidade do problema da **Avela Corporation** revela como alterações em certos parâmetros impactam o planejamento de produção e os custos totais.\n",
    "\n",
    "1. **Custo de Produção em Horas Extras**:\n",
    "   - **Redução para $4200**: A empresa utilizaria mais horas extras, reduzindo o estoque e o custo total.\n",
    "   - **Aumento para $4800**: A dependência de horas extras diminuiria, e o estoque aumentaria, resultando em maior custo total.\n",
    "\n",
    "2. **Demanda no Trimestre 3**:\n",
    "   - **Aumento para 8500 laptops**: Mais horas extras seriam necessárias, elevando os custos de produção no terceiro trimestre.\n",
    "\n",
    "3. **Capacidade de Produção Regular**:\n",
    "   - **Aumento para 4500 laptops**: Menor dependência de horas extras, resultando em menor custo total.\n",
    "   - **Redução para 3500 laptops**: Aumento da necessidade de horas extras, elevando os custos totais.\n",
    "\n",
    "4. **Custo de Armazenagem**:\n",
    "   - **Aumento para $500 por laptop**: Estoque seria reduzido, com maior uso de horas extras, aumentando o custo total.\n",
    "\n"
   ]
  },
  {
   "cell_type": "markdown",
   "metadata": {},
   "source": [
    "### Modelo reutilizável"
   ]
  },
  {
   "cell_type": "code",
   "execution_count": 7,
   "metadata": {},
   "outputs": [],
   "source": [
    "from amplpy import AMPL, tools\n",
    "\n",
    "\n",
    "def run_model(cost_extra, demand_trim3, regular_capacity, storage_cost):\n",
    "    ampl = tools.ampl_notebook(modules=[\"highs\"], license_uuid=\"default\", g=globals())  \n",
    "    \n",
    "    \n",
    "    ampl.eval('''\n",
    "    var Producao_1_reg >= 0, <= {reg_cap};   \n",
    "    var Producao_2_reg >= 0, <= {reg_cap};   \n",
    "    var Producao_3_reg >= 0, <= {reg_cap};   \n",
    "    var Producao_4_reg >= 0, <= {reg_cap};   \n",
    "\n",
    "    var Producao_1_extra >= 0;          \n",
    "    var Producao_2_extra >= 0;          \n",
    "    var Producao_3_extra >= 0;          \n",
    "    var Producao_4_extra >= 0;          \n",
    "\n",
    "    var Estoque_1 >= 0;                \n",
    "    var Estoque_2 >= 0;                \n",
    "    var Estoque_3 >= 0;                \n",
    "    var Estoque_4 >= 0;                \n",
    "\n",
    "    param Demanda_1 := 4000;           \n",
    "    param Demanda_2 := 6000;           \n",
    "    param Demanda_3 := {dem_trim3};           \n",
    "    param Demanda_4 := 2500;           \n",
    "\n",
    "    param Estoque_inicial := 1000; \n",
    "\n",
    "    \n",
    "    minimize Custo_Total:\n",
    "        4000 * (Producao_1_reg + Producao_2_reg + Producao_3_reg + Producao_4_reg) +\n",
    "        {cost_extra} * (Producao_1_extra + Producao_2_extra + Producao_3_extra + Producao_4_extra) +\n",
    "        {storage_cost} * (Estoque_1 + Estoque_2 + Estoque_3 + Estoque_4);\n",
    "\n",
    "    \n",
    "    subject to Balanco_1:\n",
    "        Estoque_inicial + Producao_1_reg + Producao_1_extra = Demanda_1 + Estoque_1;\n",
    "\n",
    "    subject to Balanco_2:\n",
    "        Estoque_1 + Producao_2_reg + Producao_2_extra = Demanda_2 + Estoque_2;\n",
    "\n",
    "    subject to Balanco_3:\n",
    "        Estoque_2 + Producao_3_reg + Producao_3_extra = Demanda_3 + Estoque_3;\n",
    "\n",
    "    subject to Balanco_4:\n",
    "        Estoque_3 + Producao_4_reg + Producao_4_extra = Demanda_4 + Estoque_4;\n",
    "\n",
    "    \n",
    "    subject to Estoque_NonNeg:\n",
    "        Estoque_4 >= 0;\n",
    "    '''.format(cost_extra=cost_extra, dem_trim3=demand_trim3, reg_cap=regular_capacity, storage_cost=storage_cost))\n",
    "\n",
    "    \n",
    "    ampl.eval('option solver \"highs\"; solve;')\n",
    "\n",
    "    \n",
    "    ampl.eval('''\n",
    "    display Producao_1_reg, Producao_2_reg, Producao_3_reg, Producao_4_reg;\n",
    "    display Producao_1_extra, Producao_2_extra, Producao_3_extra, Producao_4_extra;\n",
    "    display Estoque_1, Estoque_2, Estoque_3, Estoque_4, Custo_Total;\n",
    "    ''')\n",
    "\n",
    "\n",
    "\n"
   ]
  },
  {
   "cell_type": "markdown",
   "metadata": {},
   "source": [
    "## Diferentes casos"
   ]
  },
  {
   "cell_type": "code",
   "execution_count": 8,
   "metadata": {},
   "outputs": [
    {
     "name": "stdout",
     "output_type": "stream",
     "text": [
      "Cenário 1: Redução do custo de produção em horas extras para $4200\n",
      "AMPL Development Version 20240606 (Linux-5.15.0-1064-azure, 64-bit)\n",
      "Demo license with maintenance expiring 20260131.\n",
      "Using license file \"/home/sehmer/Documents/sync/EMC/PO1/teste_1/.venv/lib/python3.12/site-packages/ampl_module_base/bin/ampl.lic\".\n",
      "\n",
      "HiGHS 1.7.1:HiGHS 1.7.1: optimal solution; objective 77100000\n",
      "6 simplex iterations\n",
      "0 barrier iterations\n",
      "Producao_1_reg = 3000\n",
      "Producao_2_reg = 4000\n",
      "Producao_3_reg = 4000\n",
      "Producao_4_reg = 2500\n",
      "\n",
      "Producao_1_extra = 0\n",
      "Producao_2_extra = 2000\n",
      "Producao_3_extra = 3500\n",
      "Producao_4_extra = 0\n",
      "\n",
      "Estoque_1 = 0\n",
      "Estoque_2 = 0\n",
      "Estoque_3 = 0\n",
      "Estoque_4 = 0\n",
      "Custo_Total = 77100000\n",
      "\n"
     ]
    }
   ],
   "source": [
    "print(\"Cenário 1: Redução do custo de produção em horas extras para $4200\")\n",
    "run_model(cost_extra=4200, demand_trim3=7500, regular_capacity=4000, storage_cost=200)\n",
    "\n"
   ]
  },
  {
   "cell_type": "code",
   "execution_count": 9,
   "metadata": {},
   "outputs": [
    {
     "name": "stdout",
     "output_type": "stream",
     "text": [
      "\n",
      "Cenário 2: Aumento do custo de produção em horas extras para $4800\n",
      "AMPL Development Version 20240606 (Linux-5.15.0-1064-azure, 64-bit)\n",
      "Demo license with maintenance expiring 20260131.\n",
      "Using license file \"/home/sehmer/Documents/sync/EMC/PO1/teste_1/.venv/lib/python3.12/site-packages/ampl_module_base/bin/ampl.lic\".\n",
      "\n",
      "HiGHS 1.7.1:HiGHS 1.7.1: optimal solution; objective 79800000\n",
      "5 simplex iterations\n",
      "0 barrier iterations\n",
      "Producao_1_reg = 4000\n",
      "Producao_2_reg = 4000\n",
      "Producao_3_reg = 4000\n",
      "Producao_4_reg = 2500\n",
      "\n",
      "Producao_1_extra = 0\n",
      "Producao_2_extra = 1000\n",
      "Producao_3_extra = 3500\n",
      "Producao_4_extra = 0\n",
      "\n",
      "Estoque_1 = 1000\n",
      "Estoque_2 = 0\n",
      "Estoque_3 = 0\n",
      "Estoque_4 = 0\n",
      "Custo_Total = 79800000\n",
      "\n"
     ]
    }
   ],
   "source": [
    "print(\"\\nCenário 2: Aumento do custo de produção em horas extras para $4800\")\n",
    "run_model(cost_extra=4800, demand_trim3=7500, regular_capacity=4000, storage_cost=200)\n",
    "\n"
   ]
  },
  {
   "cell_type": "code",
   "execution_count": 10,
   "metadata": {},
   "outputs": [
    {
     "name": "stdout",
     "output_type": "stream",
     "text": [
      "\n",
      "Cenário 3: Aumento da demanda no trimestre 3 para 8500 laptops\n",
      "AMPL Development Version 20240606 (Linux-5.15.0-1064-azure, 64-bit)\n",
      "Demo license with maintenance expiring 20260131.\n",
      "Using license file \"/home/sehmer/Documents/sync/EMC/PO1/teste_1/.venv/lib/python3.12/site-packages/ampl_module_base/bin/ampl.lic\".\n",
      "\n",
      "HiGHS 1.7.1:HiGHS 1.7.1: optimal solution; objective 82950000\n",
      "5 simplex iterations\n",
      "0 barrier iterations\n",
      "Producao_1_reg = 4000\n",
      "Producao_2_reg = 4000\n",
      "Producao_3_reg = 4000\n",
      "Producao_4_reg = 2500\n",
      "\n",
      "Producao_1_extra = 0\n",
      "Producao_2_extra = 1000\n",
      "Producao_3_extra = 4500\n",
      "Producao_4_extra = 0\n",
      "\n",
      "Estoque_1 = 1000\n",
      "Estoque_2 = 0\n",
      "Estoque_3 = 0\n",
      "Estoque_4 = 0\n",
      "Custo_Total = 82950000\n",
      "\n"
     ]
    }
   ],
   "source": [
    "print(\"\\nCenário 3: Aumento da demanda no trimestre 3 para 8500 laptops\")\n",
    "run_model(cost_extra=4500, demand_trim3=8500, regular_capacity=4000, storage_cost=200)\n"
   ]
  },
  {
   "cell_type": "code",
   "execution_count": 11,
   "metadata": {},
   "outputs": [
    {
     "name": "stdout",
     "output_type": "stream",
     "text": [
      "\n",
      "Cenário 4: Aumento da capacidade de produção regular para 4500 laptops\n",
      "AMPL Development Version 20240606 (Linux-5.15.0-1064-azure, 64-bit)\n",
      "Demo license with maintenance expiring 20260131.\n",
      "Using license file \"/home/sehmer/Documents/sync/EMC/PO1/teste_1/.venv/lib/python3.12/site-packages/ampl_module_base/bin/ampl.lic\".\n",
      "\n",
      "HiGHS 1.7.1:HiGHS 1.7.1: optimal solution; objective 77800000\n",
      "4 simplex iterations\n",
      "0 barrier iterations\n",
      "Producao_1_reg = 4500\n",
      "Producao_2_reg = 4500\n",
      "Producao_3_reg = 4500\n",
      "Producao_4_reg = 2500\n",
      "\n",
      "Producao_1_extra = 0\n",
      "Producao_2_extra = 0\n",
      "Producao_3_extra = 3000\n",
      "Producao_4_extra = 0\n",
      "\n",
      "Estoque_1 = 1500\n",
      "Estoque_2 = 0\n",
      "Estoque_3 = 0\n",
      "Estoque_4 = 0\n",
      "Custo_Total = 77800000\n",
      "\n"
     ]
    }
   ],
   "source": [
    "\n",
    "print(\"\\nCenário 4: Aumento da capacidade de produção regular para 4500 laptops\")\n",
    "run_model(cost_extra=4500, demand_trim3=7500, regular_capacity=4500, storage_cost=200)\n"
   ]
  },
  {
   "cell_type": "code",
   "execution_count": 12,
   "metadata": {},
   "outputs": [
    {
     "name": "stdout",
     "output_type": "stream",
     "text": [
      "\n",
      "Cenário 5: Redução da capacidade de produção regular para 3500 laptops\n",
      "AMPL Development Version 20240606 (Linux-5.15.0-1064-azure, 64-bit)\n",
      "Demo license with maintenance expiring 20260131.\n",
      "Using license file \"/home/sehmer/Documents/sync/EMC/PO1/teste_1/.venv/lib/python3.12/site-packages/ampl_module_base/bin/ampl.lic\".\n",
      "\n",
      "HiGHS 1.7.1:HiGHS 1.7.1: optimal solution; objective 79100000\n",
      "5 simplex iterations\n",
      "0 barrier iterations\n",
      "Producao_1_reg = 3500\n",
      "Producao_2_reg = 3500\n",
      "Producao_3_reg = 3500\n",
      "Producao_4_reg = 2500\n",
      "\n",
      "Producao_1_extra = 0\n",
      "Producao_2_extra = 2000\n",
      "Producao_3_extra = 4000\n",
      "Producao_4_extra = 0\n",
      "\n",
      "Estoque_1 = 500\n",
      "Estoque_2 = 0\n",
      "Estoque_3 = 0\n",
      "Estoque_4 = 0\n",
      "Custo_Total = 79100000\n",
      "\n"
     ]
    }
   ],
   "source": [
    "\n",
    "print(\"\\nCenário 5: Redução da capacidade de produção regular para 3500 laptops\")\n",
    "run_model(cost_extra=4500, demand_trim3=7500, regular_capacity=3500, storage_cost=200)\n"
   ]
  },
  {
   "cell_type": "code",
   "execution_count": 16,
   "metadata": {},
   "outputs": [
    {
     "name": "stdout",
     "output_type": "stream",
     "text": [
      "\n",
      "Cenário 6: Aumento do custo de armazenagem para $300 por laptop\n",
      "AMPL Development Version 20240606 (Linux-5.15.0-1064-azure, 64-bit)\n",
      "Demo license with maintenance expiring 20260131.\n",
      "Using license file \"/home/sehmer/Documents/sync/EMC/PO1/teste_1/.venv/lib/python3.12/site-packages/ampl_module_base/bin/ampl.lic\".\n",
      "\n",
      "HiGHS 1.7.1:HiGHS 1.7.1: optimal solution; objective 78750000\n",
      "6 simplex iterations\n",
      "0 barrier iterations\n",
      "Producao_1_reg = 3000\n",
      "Producao_2_reg = 4000\n",
      "Producao_3_reg = 4000\n",
      "Producao_4_reg = 2500\n",
      "\n",
      "Producao_1_extra = 0\n",
      "Producao_2_extra = 2000\n",
      "Producao_3_extra = 3500\n",
      "Producao_4_extra = 0\n",
      "\n",
      "Estoque_1 = 0\n",
      "Estoque_2 = 0\n",
      "Estoque_3 = 0\n",
      "Estoque_4 = 0\n",
      "Custo_Total = 78750000\n",
      "\n"
     ]
    }
   ],
   "source": [
    "\n",
    "print(\"\\nCenário 6: Aumento do custo de armazenagem para $300 por laptop\")\n",
    "run_model(cost_extra=4500, demand_trim3=7500, regular_capacity=4000, storage_cost=500)"
   ]
  },
  {
   "cell_type": "markdown",
   "metadata": {},
   "source": [
    "\n",
    "##  **Resumo da Análise de Sensibilidade**\n",
    "\n",
    "| Parâmetro Alterado                  | Mudança                      | Impacto na Solução Ótima                          |\n",
    "|-------------------------------------|------------------------------|--------------------------------------------------|\n",
    "| Custo de Produção em Horas Extras   | Redução para $4200            | Aumento da produção em horas extras, menos estoque |\n",
    "| Custo de Produção em Horas Extras   | Aumento para $4800            | Redução da produção em horas extras, mais estoque |\n",
    "| Demanda no Trimestre 3              | Aumento para 8500 laptops     | Maior uso de horas extras, aumento do custo total |\n",
    "| Capacidade de Produção Regular      | Aumento para 4500 laptops     | Redução do uso de horas extras, menor custo total |\n",
    "| Capacidade de Produção Regular      | Redução para 3500 laptops     | Maior dependência de horas extras, aumento do custo total |\n",
    "| Custo de Armazenagem                | Aumento para $500 por laptop  | Redução de estoque, maior uso de horas extras     |\n",
    "\n",
    "\n",
    "### Conclusão\n",
    "Mudanças nos custos de horas extras, demanda e capacidade de produção têm um impacto significativo no planejamento e nos custos. A Avela deve ajustar suas decisões conforme as condições de produção ou demanda mudam para minimizar os custos."
   ]
  }
 ],
 "metadata": {
  "kernelspec": {
   "display_name": ".venv",
   "language": "python",
   "name": "python3"
  },
  "language_info": {
   "codemirror_mode": {
    "name": "ipython",
    "version": 3
   },
   "file_extension": ".py",
   "mimetype": "text/x-python",
   "name": "python",
   "nbconvert_exporter": "python",
   "pygments_lexer": "ipython3",
   "version": "3.12.3"
  }
 },
 "nbformat": 4,
 "nbformat_minor": 2
}
