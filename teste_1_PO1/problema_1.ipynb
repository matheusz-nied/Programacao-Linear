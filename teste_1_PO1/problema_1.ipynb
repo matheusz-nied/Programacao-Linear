{
 "cells": [
  {
   "cell_type": "markdown",
   "metadata": {},
   "source": [
    "# Problema 1 A QUESTING Pesquisas Eleitorais\n",
    "\n",
    "A QUESTING Pesquisas Eleitorais precisa de operadores de campo para a coleta de dados e realiza um programa de treinamento para novos contratados. Historicamente, apenas 70% dos trainees concluem o treinamento. A demanda mensal por operadores treinados e as restrições impostas pelo acordo sindical são fatores críticos na formulação deste problema de otimização. O objetivo é minimizar os custos de contratação e treinamento, enquanto se atende à demanda mensal.\n"
   ]
  },
  {
   "cell_type": "markdown",
   "metadata": {},
   "source": [
    "## Configurações do projeto"
   ]
  },
  {
   "cell_type": "code",
   "execution_count": 1,
   "metadata": {},
   "outputs": [],
   "source": [
    "!pip install -q amplpy pandas\n"
   ]
  },
  {
   "cell_type": "code",
   "execution_count": 1,
   "metadata": {},
   "outputs": [
    {
     "name": "stdout",
     "output_type": "stream",
     "text": [
      "AMPL Development Version 20240606 (Linux-5.15.0-1064-azure, 64-bit)\n",
      "Demo license with maintenance expiring 20260131.\n",
      "Using license file \"/home/sehmer/Documents/sync/EMC/PO1/teste_1/.venv/lib/python3.12/site-packages/ampl_module_base/bin/ampl.lic\".\n",
      "\n"
     ]
    }
   ],
   "source": [
    "from amplpy import AMPL, tools\n",
    "ampl = tools.ampl_notebook(\n",
    "modules=[\"highs\"], \n",
    "license_uuid=\"default\",\n",
    "g=globals()) "
   ]
  },
  {
   "cell_type": "markdown",
   "metadata": {},
   "source": [
    "# Formulação do problema"
   ]
  },
  {
   "cell_type": "markdown",
   "metadata": {},
   "source": [
    "## 1. Variáveis de Decisão\n",
    "Definimos as seguintes variáveis de decisão:\n",
    "- ***\\( x_n \\)***: Número de trainees contratados no mês `( n )` (onde `( n )` varia de 1 a 4, representando os meses de janeiro a abril).\n",
    "- (***\\( y_n \\)***): Número de operadores coletando dados no mês `\\( n \\)`.\n",
    "- ***\\( z_n \\)***: Número de operadores ensinando no mês `( n )`.\n",
    "- ***\\( o_n \\)***: Número de operadores ociosos no mês `( n )`.\n"
   ]
  },
  {
   "cell_type": "code",
   "execution_count": null,
   "metadata": {},
   "outputs": [],
   "source": [
    "%%ampl_eval\n",
    "\n",
    "var x{1..4} >= 0;  \n",
    "var y{1..4} >= 0;  \n",
    "var z{1..4} >= 0;  \n",
    "var o{1..4} >= 0;  \n",
    "\n",
    "param Trainee_Cost := 400;\n",
    "param Operator_Cost := 700;\n",
    "param Idle_Cost := 500;\n",
    "\n",
    "\n",
    "param Initial_Operators := 130;"
   ]
  },
  {
   "cell_type": "markdown",
   "metadata": {},
   "source": [
    "## 2. Função Objetivo\n",
    "A função objetivo é minimizar o custo total associado à contratação, treinamento e manutenção de operadores. O custo mensal inclui:\n",
    "- Custo por trainee: 400 dólares.\n",
    "- Custo por operador treinado (coletando ou ensinando): 700 dólares.\n",
    "- Custo por operador ocioso: 500 dólares.\n",
    "\n",
    "A função objetivo é expressa como:\n",
    "`sum{t in 1..4} (Trainee_Cost * x[t] + Operator_Cost * (y[t] + z[t]) + Idle_Cost * o[t]);`"
   ]
  },
  {
   "cell_type": "code",
   "execution_count": null,
   "metadata": {},
   "outputs": [],
   "source": [
    "%%ampl_eval\n",
    "\n",
    "\n",
    "\n",
    "minimize Total_Cost:\n",
    "    sum{t in 1..4} (Trainee_Cost * x[t] + Operator_Cost * (y[t] + z[t]) + Idle_Cost * o[t]);\n"
   ]
  },
  {
   "cell_type": "markdown",
   "metadata": {},
   "source": [
    "## 3. Restrições\n",
    "As seguintes restrições foram formuladas para garantir que a demanda seja atendida e que o balanço de operadores seja mantido:\n",
    "\n",
    "### Restrições de Demanda Mensal\n",
    "- **Janeiro**: `( y_1 = 100 )`\n",
    "- **Fevereiro**: `( y_2 = 150 )`\n",
    "- **Março**: `( y_3 = 200 )`\n",
    "- **Abril**: `( y_4 = 250 )`\n",
    "\n",
    "### Restrições de Treinamento\n",
    "Cada instrutor treina até 10 novos contratados:\n",
    "- **Janeiro**: `( z_1 * 10 = x_1 )`\n",
    "- **Fevereiro**: `( z_2 * 10 = x_2 )`\n",
    "- **Março**: `( z_3 * 10 = x_3 )`\n",
    "\n",
    "### Restrições de Operadores Disponíveis\n",
    "Para cada mês, o número total de operadores deve ser mantido:\n",
    "- **Janeiro**:\n",
    "  \\[\n",
    "  `y_1 + z_1 + o_1 = 130`\n",
    "  \\]\n",
    "- **Fevereiro**:\n",
    "  \\[\n",
    "  `y_2 + z_2 + o_2 = y_1 + z_1 + o_1 + 0.7 * x_1`\n",
    "  \\]\n",
    "- **Março**:\n",
    "  \\[\n",
    "  `y_3 + z_3 + o_3 = y_2 + z_2 + o_2 + 0.7 * x_2`\n",
    "  \\]\n",
    "- **Abril**:\n",
    "  \\[\n",
    "  `y_4 + z_4 + o_4 = y_3 + z_3 + o_3 + 0.7 * x_3`\n",
    "  \\]"
   ]
  },
  {
   "cell_type": "code",
   "execution_count": 2,
   "metadata": {},
   "outputs": [],
   "source": [
    "%%ampl_eval\n",
    "\n",
    "\n",
    "subject to Demanda_Janeiro:\n",
    "    y[1]  =  100;\n",
    "\n",
    "subject to Demanda_Fevereiro:\n",
    "    y[2] = 150;\n",
    "\n",
    "subject to Demanda_Marco:\n",
    "    y[3] = 200;\n",
    "\n",
    "subject to Demanda_Abril:\n",
    "    y[4] = 250;\n",
    "\n",
    "subject to Trainers_Janeiro:\n",
    "    z[1] *  10 =  x[1];\n",
    "    \n",
    "subject to Trainers_Fevereiro:\n",
    "    z[2] *  10 =  x[2];\n",
    "\n",
    "subject to Trainers_Marco:\n",
    "    z[3] *  10 =  x[3];\n",
    "    \n",
    "\n",
    "subject to Operadores_Janeiro:\n",
    "    y[1] + z[1] + o[1] = Initial_Operators ;\n",
    "\n",
    "subject to Operadores_Fevereiro:\n",
    "    y[2] + z[2] + o[2] = y[1] + z[1] + o[1] + 0.7 * x[1];\n",
    "\n",
    "subject to Operadores_Marco:\n",
    "    y[3] + z[3] + o[3] = y[2] + z[2] + o[2] + 0.7 * x[2];\n",
    "\n",
    "\n",
    "subject to Operadores_Abril:\n",
    "    y[4] + z[4] + o[4] = y[3] + z[3] + o[3] + 0.7 * x[3];\n",
    "\n",
    "\n",
    "\n"
   ]
  },
  {
   "cell_type": "markdown",
   "metadata": {},
   "source": [
    "## Resultados da Análise de Custos - Modelo de Programação Linear\n"
   ]
  },
  {
   "cell_type": "code",
   "execution_count": 3,
   "metadata": {},
   "outputs": [
    {
     "name": "stdout",
     "output_type": "stream",
     "text": [
      "HiGHS 1.7.1:HiGHS 1.7.1: optimal solution; objective 583640.625\n",
      "4 simplex iterations\n",
      "0 barrier iterations\n",
      ":      x       y       z         o       :=\n",
      "1   38.6161   100   3.86161   26.1384\n",
      "2   70.3125   150   7.03125    0\n",
      "3   62.5      200   6.25       0\n",
      "4    0        250   0          0\n",
      ";\n",
      "\n",
      "Total_Cost = 583641\n",
      "\n"
     ]
    }
   ],
   "source": [
    "%%ampl_eval\n",
    "# Solucionar o problema com o solver Highs\n",
    "option solver 'highs';\n",
    "solve;\n",
    "\n",
    "# Exibir os resultados\n",
    "display x, y, z, o, Total_Cost;\n"
   ]
  },
  {
   "cell_type": "markdown",
   "metadata": {},
   "source": [
    "\n",
    "## Resumo da Solução\n",
    "\n",
    "A solução do problema foi obtida utilizando o solver HiGHS na versão 1.7.1. A solução ótima encontrada foi:\n",
    "\n",
    "- **Valor Objetivo**: $583640.625\n",
    "- **Total de Iterações**:\n",
    "  - 4 iterações do método Simplex\n",
    "  - 0 iterações do método de Barreira\n",
    "\n",
    "## Resultados das Variáveis de Decisão\n",
    "\n",
    "As variáveis de decisão resultantes são as seguintes:\n",
    "\n",
    "| Mês       | Trainees Contratados (x) | Operadores Coletando (y) | Operadores Ensinando (z) | Operadores Ociosos (o) |\n",
    "|-----------|---------------------------|---------------------------|---------------------------|-------------------------|\n",
    "| Janeiro   | 38.6161                   | 100                       | 3.86161                   | 26.1384                 |\n",
    "| Fevereiro | 70.3125                   | 150                       | 7.03125                   | 0                       |\n",
    "| Março     | 62.5                      | 200                       | 6.25                      | 0                       |\n",
    "| Abril     | 0                         | 250                       | 0                         | 0                       |\n",
    "\n",
    "## Custo Total\n",
    "\n",
    "O custo total associado à solução proposta é de **$583641**.\n",
    "\n"
   ]
  },
  {
   "cell_type": "code",
   "execution_count": null,
   "metadata": {},
   "outputs": [],
   "source": []
  }
 ],
 "metadata": {
  "kernelspec": {
   "display_name": ".venv",
   "language": "python",
   "name": "python3"
  },
  "language_info": {
   "codemirror_mode": {
    "name": "ipython",
    "version": 3
   },
   "file_extension": ".py",
   "mimetype": "text/x-python",
   "name": "python",
   "nbconvert_exporter": "python",
   "pygments_lexer": "ipython3",
   "version": "3.12.3"
  }
 },
 "nbformat": 4,
 "nbformat_minor": 2
}
