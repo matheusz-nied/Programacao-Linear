{
 "cells": [
  {
   "cell_type": "markdown",
   "metadata": {},
   "source": [
    "# Problema 2 Problema da RoboCarga S.A."
   ]
  },
  {
   "cell_type": "markdown",
   "metadata": {},
   "source": [
    "## Configurações do projeto"
   ]
  },
  {
   "cell_type": "code",
   "execution_count": 5,
   "metadata": {},
   "outputs": [
    {
     "name": "stdout",
     "output_type": "stream",
     "text": [
      "AMPL Development Version 20240606 (Linux-5.15.0-1064-azure, 64-bit)\n",
      "Demo license with maintenance expiring 20260131.\n",
      "Using license file \"/home/sehmer/Documents/sync/EMC/PO1/teste_1/.venv/lib/python3.12/site-packages/ampl_module_base/bin/ampl.lic\".\n",
      "\n"
     ]
    }
   ],
   "source": [
    "from amplpy import AMPL, tools\n",
    "ampl = tools.ampl_notebook(\n",
    "modules=[\"highs\"], \n",
    "license_uuid=\"default\",\n",
    "g=globals()) "
   ]
  },
  {
   "cell_type": "markdown",
   "metadata": {},
   "source": [
    "# Parte 1"
   ]
  },
  {
   "cell_type": "markdown",
   "metadata": {},
   "source": [
    "\n",
    "## Formulação do Modelo\n",
    "A RoboCarga S.A. precisa planejar a produção de robôs de carregamento para atender a uma demanda crescente ao longo de quatro meses. O problema pode ser abordado como um modelo de programação linear, onde o objetivo é minimizar os custos totais, que incluem:\n",
    "\n",
    "- ***Custo de Fabricação***: $400 por robô produzido.\n",
    "- ***Custo de Armazenamento***: $100 por robô mantido em estoque ao final do mês.\n",
    "- ***Custo de Treinamento e Ajuste***: $700 por robô adicional quando a produção aumenta em relação ao mês anterior.\n",
    "- ***Custo de Rescisão e Reorganização***: $600 por robô quando a produção diminui em relação ao mês anterior.\n",
    "\n",
    "## ***Variáveis de Decisão***\n",
    "\n",
    "- ***Producao_robo_a[n]***: Número de robôs produzidos no mês (onde n=1,2,3,4).\n",
    "- ***Estoque_robo_a[n]***: Número de robôs em estoque ao final do mês n."
   ]
  },
  {
   "cell_type": "code",
   "execution_count": 6,
   "metadata": {},
   "outputs": [],
   "source": [
    "%%ampl_eval\n",
    "\n",
    "var Producao_robo_a{1..4} >= 0;  \n",
    "var Estoque_robo_a{0..4} >= 0;  \n",
    "\n",
    "\n",
    "param Custo_Fabricacao_a := 400;\n",
    "param Custo_Estoque_a := 100;\n",
    "param Custo_Aumento_a := 700;\n",
    "param Custo_Diminuicao_a := 600;\n"
   ]
  },
  {
   "cell_type": "markdown",
   "metadata": {},
   "source": [
    "## Função Objetivo\n",
    "Minimizar o custo total:\n"
   ]
  },
  {
   "cell_type": "code",
   "execution_count": 7,
   "metadata": {},
   "outputs": [],
   "source": [
    "%%ampl_eval\n",
    "\n",
    "\n",
    "minimize Custo_Total_a:\n",
    "    sum{t in 1..4} (Custo_Fabricacao_a * Producao_robo_a[t] + Custo_Estoque_a * Estoque_robo_a[t]) +\n",
    "    sum{t in 2..4} (Custo_Aumento_a * (max(Producao_robo_a[t] - Producao_robo_a[t-1], 0))) +\n",
    "    sum{t in 2..4} (Custo_Diminuicao_a * (max(Producao_robo_a[t-1] - Producao_robo_a[t], 0)));\n"
   ]
  },
  {
   "cell_type": "markdown",
   "metadata": {},
   "source": [
    "## Restrições\n",
    "Atender a demanda mensal:\n",
    "\n",
    "- Mês 1: `Producao_robo_a[1] + Estoque_robo_a[0] − Estoque_robo_a[1]=40`\n",
    "- Mês 2:` Producao_robo_a[2] + Estoque_robo_a[1] − Estoque_robo_a[2]=70`\n",
    "- Mês 3: `Producao_robo_a[3] + Estoque_robo_a[2] − Estoque_robo_a[3]=50`\n",
    "- Mês 4: `Producao_robo_a[4] + Estoque_robo_a[3] − Estoque_robo_a[4]=20`\n",
    "\n",
    "\n",
    "Condições iniciais:\n",
    "- `Estoque_robo_a[0]=0`\n",
    "- `Estoque_robo_a[4]=0`\n",
    "\n",
    "\n",
    "\n"
   ]
  },
  {
   "cell_type": "code",
   "execution_count": 8,
   "metadata": {},
   "outputs": [],
   "source": [
    "%%ampl_eval\n",
    "\n",
    "subject to Demanda_mes_1_a:\n",
    "    Producao_robo_a[1] + Estoque_robo_a[0] - Estoque_robo_a[1] = 40;\n",
    "    \n",
    "subject to Demanda_mes_2_a:\n",
    "    Producao_robo_a[2] + Estoque_robo_a[1] - Estoque_robo_a[2] = 70;    \n",
    "\n",
    "subject to Demanda_mes_3_a:\n",
    "    Producao_robo_a[3] + Estoque_robo_a[2] - Estoque_robo_a[3] = 50;\n",
    "    \n",
    "subject to Demanda_mes_4_a:\n",
    "    Producao_robo_a[4] + Estoque_robo_a[3] - Estoque_robo_a[4] = 20;\n",
    "\n",
    "\n",
    "\n",
    "subject to Estoque_Inicial_a:\n",
    "    Estoque_robo_a[0] = 0;\n",
    "    \n",
    "subject to Estoque_Final_a:\n",
    "    Estoque_robo_a[4] = 0;"
   ]
  },
  {
   "cell_type": "markdown",
   "metadata": {},
   "source": [
    "## Resultados"
   ]
  },
  {
   "cell_type": "code",
   "execution_count": 9,
   "metadata": {},
   "outputs": [
    {
     "name": "stdout",
     "output_type": "stream",
     "text": [
      "HiGHS 1.7.1:HiGHS 1.7.1: optimal solution; objective 94500\n",
      "7 simplex iterations\n",
      "0 barrier iterations\n",
      ": Producao_robo_a Estoque_robo_a    :=\n",
      "0         .               0\n",
      "1        55              15\n",
      "2        55               0\n",
      "3        50               0\n",
      "4        20               0\n",
      ";\n",
      "\n",
      "Custo_Total_a = 94500\n",
      "\n"
     ]
    }
   ],
   "source": [
    "%%ampl_eval\n",
    "\n",
    "\n",
    "option solver 'highs';  \n",
    "solve;\n",
    "\n",
    "\n",
    "display Producao_robo_a, Estoque_robo_a, Custo_Total_a;\n"
   ]
  },
  {
   "cell_type": "markdown",
   "metadata": {},
   "source": [
    "## Resumo da Solução\n",
    "\n",
    "A solução do problema foi obtida utilizando o solver HiGHS na versão 1.7.1. A solução ótima encontrada foi:\n",
    "\n",
    "- **Valor Objetivo**: $94,500\n",
    "- **Total de Iterações**:\n",
    "  - 7 iterações do método Simplex\n",
    "  - 0 iterações do método de Barreira\n",
    "\n",
    "## Resultados das Variáveis de Decisão\n",
    "\n",
    "As variáveis de decisão resultantes são as seguintes:\n",
    "\n",
    "| Mês       | Produção de Robôs (Producao_robo_a) | Estoque Final (Estoque_robo_a) |\n",
    "|-----------|--------------------------------------|---------------------------------|\n",
    "| 0         | 0                                    | 0                               |\n",
    "| 1         | 55                                   | 15                              |\n",
    "| 2         | 55                                   | 0                               |\n",
    "| 3         | 50                                   | 0                               |\n",
    "| 4         | 20                                   | 0                               |\n",
    "\n",
    "## Custo Total\n",
    "\n",
    "O custo total associado à solução proposta é de **$94,500**.\n",
    "\n",
    "## Análise dos Resultados\n",
    "\n",
    "A análise dos resultados indica o seguinte:\n",
    "\n",
    "- **Produção de Robôs**: O maior nível de produção ocorreu nos meses 1 e 2, com 55 robôs produzidos em cada um desses meses, atendendo a uma demanda significativa. A produção diminui nos meses 3 e 4, sugerindo um ajuste à demanda reduzida.\n",
    "\n",
    "- **Estoque Final**: O estoque ao final do mês 1 é de 15 robôs, o que pode indicar um planejamento eficiente que antecipa a demanda. Nos meses subsequentes, o estoque é zerado, indicando que a produção foi bem alinhada com as necessidades de demanda.\n"
   ]
  },
  {
   "cell_type": "markdown",
   "metadata": {},
   "source": [
    "# Parte 2: Restrições de Capacidade de Produção\n",
    "\n",
    "### Formulação do Problema\n",
    "Agora, a RoboCarga S.A. enfrenta restrições de capacidade de produção, onde há um limite de robôs que podem ser produzidos em cada mês:\n",
    "\n",
    "- Mês 1: 45 robôs\n",
    "- Mês 2: 75 robôs\n",
    "- Mês 3: 55 robôs\n",
    "- Mês 4: 30 robôs"
   ]
  },
  {
   "cell_type": "markdown",
   "metadata": {},
   "source": [
    "## Restrições\n",
    "\n",
    "Restrições de demanda (iguais à Parte 1).\n",
    "\n",
    "Restrições de capacidade:\n",
    "- `Producao_robo_b[1] ≤ 45`\n",
    "- `Producao_robo_b[2] ≤ 75`\n",
    "- `Producao_robo_b[3] ≤ 55`\n",
    "- `Producao_robo_b[4] ≤ 30`\n",
    "\n",
    "\n",
    "\n"
   ]
  },
  {
   "cell_type": "code",
   "execution_count": 4,
   "metadata": {},
   "outputs": [
    {
     "name": "stdout",
     "output_type": "stream",
     "text": [
      "Warning:\n",
      "\tpresolve, variable Estoque_robo_b[3]:\n",
      "\t\timpossible deduced bounds: lower = 0, upper = -10\n",
      ": Producao_robo_b Estoque_robo_b    :=\n",
      "0         .               0\n",
      "1        45               5\n",
      "2        75              10\n",
      "3        55              15\n",
      "4        30               0\n",
      ";\n",
      "\n",
      "Custo_Total_b = 133000\n",
      "\n"
     ]
    }
   ],
   "source": [
    "%%ampl_eval\n",
    "\n",
    "var Producao_robo_b{1..4} >= 0;  \n",
    "var Estoque_robo_b{0..4} >= 0;  \n",
    "\n",
    "param Custo_Fabricacao_b := 400;\n",
    "param Custo_Estoque_b := 100;\n",
    "param Custo_Aumento_b := 700;\n",
    "param Custo_Diminuicao_b := 600;\n",
    "\n",
    "minimize Custo_Total_b:\n",
    "    sum{t in 1..4} (Custo_Fabricacao_b * Producao_robo_b[t] + Custo_Estoque_b * Estoque_robo_b[t]) +\n",
    "    sum{t in 2..4} (Custo_Aumento_b * (max(Producao_robo_b[t] - Producao_robo_b[t-1], 0))) +\n",
    "    sum{t in 2..4} (Custo_Diminuicao_b * (max(Producao_robo_b[t-1] - Producao_robo_b[t], 0)));\n",
    "\n",
    "subject to Demanda_mes_1_b:\n",
    "    Producao_robo_b[1] + Estoque_robo_b[0] - Estoque_robo_b[1] = 40;\n",
    "    \n",
    "subject to Demanda_mes_2_b:\n",
    "    Producao_robo_b[2] + Estoque_robo_b[1] - Estoque_robo_b[2] = 70;    \n",
    "\n",
    "subject to Demanda_mes_3_b:\n",
    "    Producao_robo_b[3] + Estoque_robo_b[2] - Estoque_robo_b[3] = 50;\n",
    "    \n",
    "subject to Demanda_mes_4_b:\n",
    "    Producao_robo_b[4] + Estoque_robo_b[3] - Estoque_robo_b[4] = 20;\n",
    "\n",
    "\n",
    "subject to restricao_mes_1_b:\n",
    "    Producao_robo_b[1] = 45;\n",
    "    \n",
    "subject to restricao_mes_2_b:\n",
    "    Producao_robo_b[2] = 75;\n",
    "    \n",
    "\n",
    "subject to restricao_mes_3_b:\n",
    "    Producao_robo_b[3] = 55;\n",
    "    \n",
    "subject to restricao_mes_4_b:\n",
    "    Producao_robo_b[4] = 30;    \n",
    "    \n",
    "\n",
    "subject to Estoque_Inicial_b:\n",
    "    Estoque_robo_b[0] = 0;\n",
    "    \n",
    "subject to Estoque_Final_b:\n",
    "    Estoque_robo_b[4] = 0;\n",
    "\n",
    "\n",
    "option solver 'highs';  \n",
    "solve;\n",
    "\n",
    "\n",
    "display Producao_robo_b, Estoque_robo_b, Custo_Total_b;\n"
   ]
  },
  {
   "cell_type": "markdown",
   "metadata": {},
   "source": [
    "## Resultados das Variáveis de Decisão parte 2\n",
    "\n",
    "As variáveis de decisão resultantes são as seguintes:\n",
    "\n",
    "| Mês       | Produção de Robôs (Producao_robo_a) | Estoque Final (Estoque_robo_a) |\n",
    "|-----------|--------------------------------------|---------------------------------|\n",
    "| 0         | 0                                    | 0                               |\n",
    "| 1         | 45                                   | 5                               |\n",
    "| 2         | 75                                   | 10                              |\n",
    "| 3         | 55                                   | 15                              |\n",
    "| 4         | 30                                   | 0                               |\n",
    "\n",
    "## Custo Total\n",
    "\n",
    "O custo total associado à solução proposta é de **$ 133,000**."
   ]
  },
  {
   "cell_type": "markdown",
   "metadata": {},
   "source": [
    "# Parte 3: Repetição do Problema\n",
    "\n",
    "Considerando que o problema se repete por três quadrimestres ao longo do ano, o modelo pode ser adaptado para atender a 12 meses, considerando a mesma demanda mensal, porém ajustada para um período de 12 meses. As variáveis, a função objetivo e as restrições são estendidas para os novos meses.\n",
    "\n"
   ]
  },
  {
   "cell_type": "code",
   "execution_count": 10,
   "metadata": {},
   "outputs": [
    {
     "name": "stdout",
     "output_type": "stream",
     "text": [
      "HiGHS 1.7.1:HiGHS 1.7.1: optimal solution; objective 250500\n",
      "27 simplex iterations\n",
      "0 barrier iterations\n",
      ":  Producao_robo_c Estoque_robo_c    :=\n",
      "0          .               0\n",
      "1         55              15\n",
      "2         55               0\n",
      "3         50               0\n",
      "4         45              25\n",
      "5         45              30\n",
      "6         45               5\n",
      "7         45               0\n",
      "8         45              25\n",
      "9         45              30\n",
      "10        45               5\n",
      "11        45               0\n",
      "12        20               0\n",
      ";\n",
      "\n",
      "Custo_Total_c = 250500\n",
      "\n"
     ]
    }
   ],
   "source": [
    "from amplpy import AMPL, Environment\n",
    "\n",
    "def modelo_parte_c():\n",
    "    ampl = AMPL(Environment())\n",
    "    ampl.eval('''\n",
    "    option solver 'highs';  # Ou outro solver que você tenha instalado\n",
    "\n",
    "    var Producao_robo_c{1..12} >= 0;  # Produção de robôs no mês t\n",
    "    var Estoque_robo_c{0..12} >= 0;  # Estoque de robôs ao final do mês t\n",
    "\n",
    "    param Custo_Fabricacao_c := 400;\n",
    "    param Custo_Estoque_c := 100;\n",
    "    param Custo_Aumento_c := 700;\n",
    "    param Custo_Diminuicao_c := 600;\n",
    "\n",
    "    minimize Custo_Total_c:\n",
    "        sum{t in 1..12} (Custo_Fabricacao_c * Producao_robo_c[t] + Custo_Estoque_c * Estoque_robo_c[t]) +\n",
    "        sum{t in 2..12} (Custo_Aumento_c * (max(Producao_robo_c[t] - Producao_robo_c[t-1], 0))) +\n",
    "        sum{t in 2..12} (Custo_Diminuicao_c * (max(Producao_robo_c[t-1] - Producao_robo_c[t], 0)));\n",
    "\n",
    "    subject to Demanda_mes_1_c:\n",
    "        Producao_robo_c[1] + Estoque_robo_c[0] - Estoque_robo_c[1] = 40;\n",
    "\n",
    "    subject to Demanda_mes_2_c:\n",
    "        Producao_robo_c[2] + Estoque_robo_c[1] - Estoque_robo_c[2] = 70;    \n",
    "\n",
    "    subject to Demanda_mes_3_c:\n",
    "        Producao_robo_c[3] + Estoque_robo_c[2] - Estoque_robo_c[3] = 50;\n",
    "        \n",
    "    subject to Demanda_mes_4_c:\n",
    "        Producao_robo_c[4] + Estoque_robo_c[3] - Estoque_robo_c[4] = 20;\n",
    "\n",
    "    subject to Demanda_mes_5_c:\n",
    "        Producao_robo_c[5] + Estoque_robo_c[4] - Estoque_robo_c[5] = 40;\n",
    "\n",
    "    subject to Demanda_mes_6_c:   \n",
    "        Producao_robo_c[6] + Estoque_robo_c[5] - Estoque_robo_c[6] = 70;\n",
    "\n",
    "    subject to Demanda_mes_7_c:\n",
    "        Producao_robo_c[7] + Estoque_robo_c[6] - Estoque_robo_c[7] = 50;\n",
    "\n",
    "    subject to Demanda_mes_8_c:\n",
    "        Producao_robo_c[8] + Estoque_robo_c[7] - Estoque_robo_c[8] = 20;\n",
    "\n",
    "    subject to Demanda_mes_9_c:\n",
    "        Producao_robo_c[9] + Estoque_robo_c[8] - Estoque_robo_c[9] = 40;\n",
    "        \n",
    "    subject to Demanda_mes_10_c:\n",
    "        Producao_robo_c[10] + Estoque_robo_c[9] - Estoque_robo_c[10] = 70;    \n",
    "\n",
    "    subject to Demanda_mes_11_c:\n",
    "        Producao_robo_c[11] + Estoque_robo_c[10] - Estoque_robo_c[11] = 50;\n",
    "        \n",
    "    subject to Demanda_mes_12_c:\n",
    "        Producao_robo_c[12] + Estoque_robo_c[11] - Estoque_robo_c[12] = 20;\n",
    "\n",
    "    subject to Estoque_Inicial_c:\n",
    "        Estoque_robo_c[0] = 0;\n",
    "        \n",
    "    subject to Estoque_Final_c:\n",
    "        Estoque_robo_c[12] = 0;\n",
    "\n",
    "    solve;\n",
    "\n",
    "    ''')\n",
    "    ampl.eval('display Producao_robo_c, Estoque_robo_c, Custo_Total_c;')\n",
    "    return ampl\n",
    "\n",
    "# Execução dos modelos\n",
    "ampl_c = modelo_parte_c()\n",
    " # Para ver se há algo no estoque\n"
   ]
  },
  {
   "cell_type": "markdown",
   "metadata": {},
   "source": [
    "## Resultados das Variáveis de Decisão\n",
    "\n",
    "| Mês       | Produção de Robôs (Producao_robo_c) | Estoque Final (Estoque_robo_c) |\n",
    "|-----------|--------------------------------------|---------------------------------|\n",
    "| 0         | 0                                    | 0                               |\n",
    "| 1         | 55                                   | 15                              |\n",
    "| 2         | 55                                   | 0                               |\n",
    "| 3         | 50                                   | 0                               |\n",
    "| 4         | 45                                   | 25                              |\n",
    "| 5         | 45                                   | 30                              |\n",
    "| 6         | 45                                   | 5                               |\n",
    "| 7         | 45                                   | 0                               |\n",
    "| 8         | 45                                   | 25                              |\n",
    "| 9         | 45                                   | 30                              |\n",
    "| 10        | 45                                   | 5                               |\n",
    "| 11        | 45                                   | 0                               |\n",
    "| 12        | 20                                   | 0                               |\n",
    "\n",
    "## Custo Total\n",
    "\n",
    "O custo total associado à solução proposta é de **$250,500**.\n",
    "\n"
   ]
  },
  {
   "cell_type": "markdown",
   "metadata": {},
   "source": [
    "# Discussão os resultados.\n",
    "\n",
    "### Parte 1: Sem Restrições de Capacidade\n",
    "- **Custo Total**: **$94,500**.\n",
    "- A produção de **55 robôs** nos primeiros meses atende bem à demanda crescente, resultando em um estoque final de **15 robôs** no mês 1.\n",
    "\n",
    "### Parte 2: Com Restrições de Capacidade\n",
    "- **Custo Total**: Aumenta para **$133,000** devido às limitações de produção.\n",
    "- As restrições impactam a capacidade de atender à demanda ideal, resultando em estoques maiores e custos adicionais.\n",
    "- A produção é maximizada ao limite imposto, mas a necessidade de ajustes gera custos.\n",
    "\n",
    "### Parte 3: Repetição do Problema\n",
    "- **Custo Total**: **$250,500** ao longo de 12 meses.\n",
    "- A produção é ajustada mensalmente para atender à demanda, mostrando uma gestão eficiente dos estoques.\n",
    "\n",
    "\n",
    "### Conclusão\n",
    "Os resultados enfatizam a importância do planejamento estratégico e da gestão eficiente da produção e do estoque para a RoboCarga S.A., visando minimizar custos e atender a uma demanda crescente no mercado de robôs de carregamento."
   ]
  }
 ],
 "metadata": {
  "kernelspec": {
   "display_name": ".venv",
   "language": "python",
   "name": "python3"
  },
  "language_info": {
   "codemirror_mode": {
    "name": "ipython",
    "version": 3
   },
   "file_extension": ".py",
   "mimetype": "text/x-python",
   "name": "python",
   "nbconvert_exporter": "python",
   "pygments_lexer": "ipython3",
   "version": "3.12.3"
  }
 },
 "nbformat": 4,
 "nbformat_minor": 2
}
