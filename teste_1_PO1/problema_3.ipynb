{
 "cells": [
  {
   "cell_type": "markdown",
   "metadata": {},
   "source": [
    "# Parte 3 Problema da VigilanceCo\n",
    "\n",
    "A VigilanceCo deseja otimizar a contratação e o escalonamento de vigilantes em período integral para atender à demanda diária de vigilância, respeitando as exigências sindicais e minimizando custos. O problema é dividido em três partes, cada uma com suas características e restrições."
   ]
  },
  {
   "cell_type": "markdown",
   "metadata": {},
   "source": [
    "## Configurações do projeto"
   ]
  },
  {
   "cell_type": "code",
   "execution_count": 1,
   "metadata": {},
   "outputs": [
    {
     "name": "stdout",
     "output_type": "stream",
     "text": [
      "AMPL Development Version 20240606 (Linux-5.15.0-1064-azure, 64-bit)\n",
      "Demo license with maintenance expiring 20260131.\n",
      "Using license file \"/home/sehmer/Documents/sync/EMC/PO1/teste_1/.venv/lib/python3.12/site-packages/ampl_module_base/bin/ampl.lic\".\n",
      "\n"
     ]
    }
   ],
   "source": [
    "from amplpy import AMPL, tools\n",
    "ampl = tools.ampl_notebook(\n",
    "modules=[\"highs\"], \n",
    "license_uuid=\"default\",\n",
    "g=globals()) "
   ]
  },
  {
   "cell_type": "markdown",
   "metadata": {},
   "source": [
    "# Parte A: Minimização de Vigilantes em Período Integral\n"
   ]
  },
  {
   "cell_type": "markdown",
   "metadata": {},
   "source": [
    "## Definição das Variáveis\n"
   ]
  },
  {
   "cell_type": "code",
   "execution_count": null,
   "metadata": {},
   "outputs": [],
   "source": [
    "%%ampl_eval\n",
    "\n",
    "var vigilante_segunda >= 0;  \n",
    "var vigilante_terca >= 0;  \n",
    "var vigilante_quarta >= 0;  \n",
    "var vigilante_quinta >= 0;  \n",
    "var vigilante_sexta >= 0;  \n",
    "var vigilante_sabado >= 0;  \n",
    "var vigilante_domingo >= 0;  "
   ]
  },
  {
   "cell_type": "markdown",
   "metadata": {},
   "source": [
    "## 2. Função Objetivo\n",
    "Minimizar o número total de vigilantes:\n",
    "\n"
   ]
  },
  {
   "cell_type": "code",
   "execution_count": null,
   "metadata": {},
   "outputs": [],
   "source": [
    "%%ampl_eval\n",
    "\n",
    "minimize Total_Vigilantes: vigilante_segunda + vigilante_terca + vigilante_quarta + vigilante_quinta + vigilante_sexta + vigilante_sabado + vigilante_domingo;\n",
    "\n"
   ]
  },
  {
   "cell_type": "markdown",
   "metadata": {},
   "source": [
    "## Restrições\n",
    "Cada dia da semana deve ter a quantidade mínima de vigilantes de acordo com a demanda:"
   ]
  },
  {
   "cell_type": "code",
   "execution_count": 2,
   "metadata": {},
   "outputs": [
    {
     "name": "stdout",
     "output_type": "stream",
     "text": [
      "HiGHS 1.7.1:HiGHS 1.7.1: optimal solution; objective 49\n",
      "6 simplex iterations\n",
      "0 barrier iterations\n",
      "vigilante_segunda = 6\n",
      "vigilante_terca = 0\n",
      "vigilante_quarta = 10\n",
      "vigilante_quinta = 14\n",
      "vigilante_sexta = 0\n",
      "vigilante_sabado = 19\n",
      "vigilante_domingo = 0\n",
      "Total_Vigilantes = 49\n",
      "\n"
     ]
    }
   ],
   "source": [
    "%%ampl_eval\n",
    "\n",
    "subject to Demanda_Segunda:\n",
    "    vigilante_segunda  + vigilante_quinta + vigilante_sexta + vigilante_sabado  + vigilante_domingo >= 39;  \n",
    "\n",
    "subject to Demanda_Terça:\n",
    "    vigilante_segunda + vigilante_terca  + vigilante_sexta + vigilante_sabado + vigilante_domingo  >= 21;  \n",
    "\n",
    "subject to Demanda_Quarta:\n",
    "    vigilante_segunda + vigilante_terca + vigilante_quarta + vigilante_sabado  + vigilante_domingo >= 35;  \n",
    "\n",
    "subject to Demanda_Quinta:\n",
    "    vigilante_segunda + vigilante_terca + vigilante_quarta + vigilante_quinta  + vigilante_domingo  >= 30;  \n",
    "\n",
    "subject to Demanda_Sexta:\n",
    "    vigilante_segunda + vigilante_terca + vigilante_quarta  + vigilante_quinta + vigilante_sexta >= 28;  \n",
    "\n",
    "subject to Demanda_Sábado:\n",
    "    vigilante_terca  + vigilante_quarta  + vigilante_quinta + vigilante_sexta + vigilante_sabado >= 43;  \n",
    "\n",
    "subject to Demanda_Domingo:\n",
    "    vigilante_quarta  + vigilante_quinta + vigilante_sexta + vigilante_sabado  + vigilante_domingo >= 19;  \n",
    "\n"
   ]
  },
  {
   "cell_type": "markdown",
   "metadata": {},
   "source": [
    "## Resultados"
   ]
  },
  {
   "cell_type": "code",
   "execution_count": null,
   "metadata": {},
   "outputs": [],
   "source": [
    "%%ampl_eval\n",
    "option solver 'highs';  \n",
    "solve;\n",
    "\n",
    "\n",
    "display vigilante_segunda, vigilante_terca, vigilante_quarta, vigilante_quinta, vigilante_sexta, vigilante_sabado, vigilante_domingo,Total_Vigilantes;"
   ]
  },
  {
   "cell_type": "markdown",
   "metadata": {},
   "source": [
    "Aqui está a saída formatada em uma tabela para facilitar a leitura dos resultados:\n",
    "\n",
    "| Dia da Semana   | Vigilantes Necessários |\n",
    "|-----------------|------------------------|\n",
    "| Segunda-feira   | 6                      |\n",
    "| Terça-feira     | 0                      |\n",
    "| Quarta-feira    | 10                     |\n",
    "| Quinta-feira    | 14                     |\n",
    "| Sexta-feira     | 0                      |\n",
    "| Sábado          | 19                     |\n",
    "| Domingo         | 0                      |\n",
    "| **Total**       | **49**                 |\n",
    "\n",
    "Esse resultado mostra a distribuição dos 49 vigilantes em período integral para atender à demanda mínima em cada dia da semana."
   ]
  },
  {
   "cell_type": "markdown",
   "metadata": {},
   "source": [
    "# Parte B: Minimização de Custo com Vigilantes em Período Integral e Meio Período\n",
    "\n",
    "Além de vigilantes em período integral, a VigilanceCo pode contratar vigilantes de meio período, que trabalham 4 horas por dia. A quantidade de vigilantes de meio período é limitada a 1/3 da demanda semanal."
   ]
  },
  {
   "cell_type": "markdown",
   "metadata": {},
   "source": [
    "## Definição das Variáveis\n",
    "\n",
    "- Vigias integrais que começam a trabalhar na segunda, terça, quarta, quinta, sexta, sábado, domingo.\n",
    "- Vigias meio perído que começam a trabalhar na segunda, terça, quarta, quinta, sexta, sábado, domingo."
   ]
  },
  {
   "cell_type": "markdown",
   "metadata": {},
   "source": [
    "\n",
    "## Função Objetivo\n",
    "\n",
    "Minimizar o custo total:\n",
    "\n",
    "\n",
    "`{Minimizar } Z = 30 * 8 * (x_1 + x_2 + x_3 + x_4 + x_5 + x_6 + x_7) + 20 * 4 * (y_1 + y_2 + y_3 + y_4 + y_5 + y_6 + y_7)`\n"
   ]
  },
  {
   "cell_type": "markdown",
   "metadata": {},
   "source": [
    "\n",
    "\n",
    "##  Restrições\n",
    "\n",
    "#### Demanda de Horas por Dia\n",
    "\n",
    "Cada dia deve ter a demanda total de horas atendida:\n",
    "\n",
    "- **Segunda-feira**:\n",
    "\n",
    "\n",
    "`8(x_1 + x_4 + x_5 + x_6 + x_7) + 4(y_1 + y_4 + y_5 + y_6 + y_7) >= 312`\n",
    "\n",
    "\n",
    "- **Terça-feira**:\n",
    "\n",
    "`8(x_1 + x_2 + x_5 + x_6 + x_7) + 4(y_1 + y_2 + y_5 + y_6 + y_7) >= 168`\n",
    "\n",
    "\n",
    "E assim sucessivamente para os outros dias da semana.\n",
    "\n",
    "---\n",
    "\n",
    "#### Limite de Meio Período\n",
    "\n",
    "A soma das horas dos vigilantes de meio período deve ser no máximo 1/3 do total de horas semanais:\n",
    "\n",
    "\n",
    "`4 * 5 * (y_1 + y_2 + y_3 + y_4 + y_5 + y_6 + y_7) <= 1/3 * 1720`\n",
    "\n",
    "---\n",
    "\n",
    "Essa é a formatação correta, com as equações matemáticas apresentadas de forma clara em Markdown."
   ]
  },
  {
   "cell_type": "code",
   "execution_count": 4,
   "metadata": {},
   "outputs": [
    {
     "name": "stdout",
     "output_type": "stream",
     "text": [
      "HiGHS 1.7.1:HiGHS 1.7.1: optimal solution; objective 10613.34\n",
      "8 simplex iterations\n",
      "0 barrier iterations\n",
      "vigia_seg_int = 6\n",
      "vigia_ter_int = 0\n",
      "vigia_qua_int = 0\n",
      "vigia_qui_int = 9.66675\n",
      "vigia_sext_int = 0\n",
      "vigia_sab_int = 19\n",
      "vigia_dom_int = 0\n",
      "vigia_seg_meio = 0\n",
      "vigia_ter_meio = 20\n",
      "vigia_qua_meio = 0\n",
      "vigia_qui_meio = 8.6665\n",
      "vigia_sext_meio = 0\n",
      "vigia_sab_meio = 0\n",
      "vigia_dom_meio = 0\n",
      "Total_Vigilantes_Int = 34.6667\n",
      "Total_Vigilantes_Meio = 28.6665\n",
      "Custo_Total_b = 10613.3\n",
      "\n"
     ]
    }
   ],
   "source": [
    "from amplpy import AMPL, Environment\n",
    "\n",
    "def modelo_parte_b():\n",
    "    ampl = AMPL(Environment())\n",
    "    ampl.eval('''\n",
    "\n",
    "    \n",
    "\n",
    "var vigia_seg_int >= 0;  \n",
    "var vigia_ter_int >= 0;  \n",
    "var vigia_qua_int >= 0;  \n",
    "var vigia_qui_int >= 0;  \n",
    "var vigia_sext_int >= 0;  \n",
    "var vigia_sab_int >= 0;  \n",
    "var vigia_dom_int >= 0;  \n",
    "\n",
    "\n",
    "var vigia_seg_meio >= 0;  \n",
    "var vigia_ter_meio >= 0;  \n",
    "var vigia_qua_meio >= 0;  \n",
    "var vigia_qui_meio >= 0;  \n",
    "var vigia_sext_meio >= 0;  \n",
    "var vigia_sab_meio >= 0;  \n",
    "var vigia_dom_meio >= 0; \n",
    "\n",
    "\n",
    "minimize Custo_Total_b: \n",
    "    30 * 8 * (vigia_seg_int + vigia_ter_int + vigia_qua_int + vigia_qui_int + vigia_sext_int + vigia_sab_int + vigia_dom_int) \n",
    "  + 20 * 4 * (vigia_seg_meio + vigia_ter_meio + vigia_qua_meio + vigia_qui_meio + vigia_sext_meio + vigia_sab_meio + vigia_dom_meio);\n",
    "\n",
    "\n",
    "subject to Demanda_Segunda_b:\n",
    "    (vigia_seg_int  + vigia_qui_int + vigia_sext_int + vigia_sab_int  + vigia_dom_int) * 8  + \n",
    "    (vigia_seg_meio  + vigia_qui_meio  + vigia_sext_meio  + vigia_sab_meio   + vigia_dom_meio) * 4  >= 312;  \n",
    "\n",
    "subject to Demanda_Terça_b:\n",
    "   ( vigia_seg_int + vigia_ter_int  + vigia_sext_int + vigia_sab_int + vigia_dom_int) * 8  + \n",
    "     (vigia_seg_meio + vigia_ter_meio  + vigia_sext_meio + vigia_sab_meio + vigia_dom_meio) * 4 >= 168;  \n",
    "\n",
    "subject to Demanda_Quarta_b:\n",
    "    (vigia_seg_int + vigia_ter_int + vigia_qua_int + vigia_sab_int  + vigia_dom_int) * 8  +\n",
    "    (vigia_seg_meio + vigia_ter_meio + vigia_qua_meio + vigia_sab_meio  + vigia_dom_meio)  * 4 >= 280;  \n",
    "\n",
    "subject to Demanda_Quinta_b:\n",
    "   ( vigia_seg_int + vigia_ter_int + vigia_qua_int + vigia_qui_int  + vigia_dom_int) * 8  +\n",
    "     (vigia_seg_meio + vigia_ter_meio + vigia_qua_meio + vigia_qui_meio  + vigia_dom_meio ) * 4 >= 240;  \n",
    "\n",
    "subject to Demanda_Sexta_b:\n",
    "    (vigia_seg_int + vigia_ter_int + vigia_qua_int  + vigia_qui_int + vigia_sext_int) * 8  + \n",
    "    (vigia_seg_meio + vigia_ter_meio + vigia_qua_meio  + vigia_qui_meio + vigia_sext_meio) * 4 >= 224;  \n",
    "\n",
    "subject to Demanda_Sabado_b:\n",
    "    (vigia_ter_int  + vigia_qua_int  + vigia_qui_int + vigia_sext_int + vigia_sab_int  ) * 8 + \n",
    "    (vigia_ter_meio  + vigia_qua_meio  + vigia_qui_meio + vigia_sext_meio + vigia_sab_meio) * 4  >= 344;  \n",
    "\n",
    "subject to Demanda_Domingo_b:\n",
    "    (vigia_qua_int  + vigia_qui_int + vigia_sext_int + vigia_sab_int  + vigia_dom_int) * 8  + \n",
    "    (vigia_qua_meio  + vigia_qui_meio + vigia_sext_meio + vigia_sab_meio + vigia_dom_meio ) * 4 >= 152;  \n",
    "\n",
    "\n",
    "subject to Limite_Meio_Periodo_b: \n",
    "    4 * 5 * (vigia_seg_meio + vigia_ter_meio + vigia_qua_meio + vigia_qui_meio + vigia_sext_meio + vigia_sab_meio + vigia_dom_meio) <= 573.33;  \n",
    "\n",
    "\n",
    "var Total_Vigilantes_Int = vigia_seg_int + vigia_ter_int + vigia_qua_int + vigia_qui_int + vigia_sext_int + vigia_sab_int + vigia_dom_int;\n",
    "var Total_Vigilantes_Meio = vigia_seg_meio + vigia_ter_meio + vigia_qua_meio + vigia_qui_meio + vigia_sext_meio + vigia_sab_meio + vigia_dom_meio;\n",
    "\n",
    "\n",
    "option solver 'highs';  \n",
    "solve;\n",
    "\n",
    "\n",
    "\n",
    "\n",
    "\n",
    "\n",
    "    ''')\n",
    "    ampl.eval('display vigia_seg_int, vigia_ter_int, vigia_qua_int, vigia_qui_int, vigia_sext_int, vigia_sab_int, vigia_dom_int,vigia_seg_meio, vigia_ter_meio, vigia_qua_meio, vigia_qui_meio, vigia_sext_meio, vigia_sab_meio, vigia_dom_meio, Total_Vigilantes_Int, Total_Vigilantes_Meio, Custo_Total_b;')\n",
    "    return ampl\n",
    "\n",
    "\n",
    "ampl_c = modelo_parte_b()\n"
   ]
  },
  {
   "cell_type": "markdown",
   "metadata": {},
   "source": [
    "## Resultados\n",
    "\n",
    "Aqui está a saída formatada em uma tabela com os valores de vigilantes de período integral e meio período:\n",
    "\n",
    "| Dia da Semana      | Vigilantes Período Integral | Vigilantes Meio Período |\n",
    "|--------------------|-----------------------------|-------------------------|\n",
    "| Segunda-feira      | 6                           | 0                       |\n",
    "| Terça-feira        | 0                           | 20                      |\n",
    "| Quarta-feira       | 0                           | 0                       |\n",
    "| Quinta-feira       | 9.66675                     | 8.6665                  |\n",
    "| Sexta-feira        | 0                           | 0                       |\n",
    "| Sábado             | 19                          | 0                       |\n",
    "| Domingo            | 0                           | 0                       |\n",
    "\n",
    "| **Total Vigilantes** | **Período Integral** | **Período Meio** |\n",
    "|----------------------|----------------------|------------------|\n",
    "|                      | 34.6667              | 28.6665          |\n",
    "\n",
    "| **Custo Total**       | **R\\$ 10613.34**    |\n",
    "\n",
    "Esses valores representam o número de vigilantes por dia, divididos em períodos integral e meio período, além do custo total da solução."
   ]
  },
  {
   "cell_type": "markdown",
   "metadata": {},
   "source": [
    "# Parte C: Maximização de Dias de Folga nos Finais de Semana\n",
    "\n",
    "Neste cenário, a VigilanceCo já tem 49 vigilantes em período integral e deseja maximizar o número de dias de folga nos finais de semana (sábados e domingos)"
   ]
  },
  {
   "cell_type": "markdown",
   "metadata": {},
   "source": [
    "## Definição das Variáveis\n",
    "\n",
    "- Nessa parte optei por definir as variáveis como `escalas` de 5 dias onde cada funcionario comeca em um dia e trabalha por 5 dias consecutivos"
   ]
  },
  {
   "cell_type": "markdown",
   "metadata": {},
   "source": [
    "## Função Objetivo\n",
    "Maximizar o número de folgas aos finais de semana:\n",
    "\n",
    "`Maximizar Folgas_fim_de_semana = (escala_1 + escala_7) + (escala_1 + escala_2);`  \n",
    "\n",
    "Onde a `escala_1` é somada 2 vezes pois possui 2 dias de fim de semana.\n",
    "- `escala_1` : Folga sábado e domingo\n",
    "- `escala_2` : Folga domingo\n",
    "- `escala_7` : Folga sábado\n",
    "\n"
   ]
  },
  {
   "cell_type": "markdown",
   "metadata": {},
   "source": [
    "## Restrições\n",
    "\n",
    "- Demanda de Vigilantes Diária: Cada dia da semana deve ter a quantidade mínima de vigilantes assim como nos casos anteriores\n",
    "\n",
    "- Total de Vigilantes: A soma de todos os vigilantes alocados deve ser igual a 49: \n",
    "\n",
    "    `escala_1 + escala_2 + escala_3 + escala_4 + escala_5 + escala_6 + escala_7 = 49;`\n",
    "\n",
    "\n"
   ]
  },
  {
   "cell_type": "code",
   "execution_count": 1,
   "metadata": {},
   "outputs": [
    {
     "name": "stdout",
     "output_type": "stream",
     "text": [
      "HiGHS 1.7.1:HiGHS 1.7.1: optimal solution; objective 22\n",
      "7 simplex iterations\n",
      "0 barrier iterations\n",
      "escala_1 = 6\n",
      "escala_2 = 10\n",
      "escala_3 = 0\n",
      "escala_4 = 14\n",
      "escala_5 = 0\n",
      "escala_6 = 19\n",
      "escala_7 = 0\n",
      "\n"
     ]
    }
   ],
   "source": [
    "from amplpy import AMPL, Environment\n",
    "\n",
    "def modelo_parte_c():\n",
    "    ampl = AMPL(Environment())\n",
    "    ampl.eval('''    \n",
    "    var escala_1 >= 0,;  \n",
    "    var escala_2 >= 0;  \n",
    "    var escala_3 >= 0;  \n",
    "    var escala_4 >= 0;  \n",
    "    var escala_5 >= 0;  \n",
    "    var escala_6 >= 0;  \n",
    "    var escala_7 >= 0;  \n",
    "\n",
    "    maximize Folgas_Finais_Semana:\n",
    "        (escala_1 + escala_7) + (escala_1 + escala_2);  \n",
    "\n",
    "    subject to Total_Vigilantes:\n",
    "        escala_1 + escala_2 + escala_3 + escala_4 + escala_5 + escala_6 + escala_7 = 49;\n",
    "\n",
    "    subject to Demanda_Segunda:\n",
    "        escala_1 + escala_4 + escala_5 + escala_6 + escala_7 >= 39;  \n",
    "\n",
    "    subject to Demanda_Terça:\n",
    "        escala_1 + escala_2 + escala_5 + escala_6 + escala_7 >= 21;  \n",
    "\n",
    "    subject to Demanda_Quarta:\n",
    "        escala_1 + escala_2 + escala_3 + escala_6 + escala_7 >= 35;  \n",
    "\n",
    "    subject to Demanda_Quinta:\n",
    "        escala_1 + escala_2 + escala_3 + escala_4 + escala_7 >= 30;  \n",
    "\n",
    "    subject to Demanda_Sexta:\n",
    "        escala_1 + escala_2 + escala_3 + escala_4 + escala_5 >= 28;  \n",
    "\n",
    "    subject to Demanda_Sabado:\n",
    "        escala_2 + escala_3 + escala_4 + escala_5 + escala_6 >= 43;  \n",
    "\n",
    "    subject to Demanda_Domingo:\n",
    "        escala_3 + escala_4 + escala_5 + escala_6 + escala_7 >= 19;  \n",
    "\n",
    "    option solver 'highs';\n",
    "    solve;\n",
    "    ''')\n",
    "    ampl.eval('display escala_1, escala_2, escala_3, escala_4, escala_5, escala_6, escala_7;')\n",
    "    return ampl\n",
    "\n",
    "\n",
    "ampl_c = modelo_parte_c()\n"
   ]
  },
  {
   "cell_type": "markdown",
   "metadata": {},
   "source": [
    "## Resultados\n",
    "Aqui está a tabela formatada com os valores da solução fornecida:\n",
    "\n",
    "| Dia da Semana      | Vigilantes |\n",
    "|--------------------|------------|\n",
    "| Escala 1 (Segunda) | 6          |\n",
    "| Escala 2 (Terça)   | 10         |\n",
    "| Escala 3 (Quarta)  | 0          |\n",
    "| Escala 4 (Quinta)  | 14         |\n",
    "| Escala 5 (Sexta)   | 0          |\n",
    "| Escala 6 (Sábado)  | 19         |\n",
    "| Escala 7 (Domingo) | 0          |\n",
    "\n",
    "| **Total Objetivo** | **22** |  \n",
    "\n",
    "Essa tabela mostra o número de vigilantes alocados por dia da semana em cada escala."
   ]
  },
  {
   "cell_type": "markdown",
   "metadata": {},
   "source": [
    "# Resumo da Solução\n",
    "- **Parte A:** Minimiza o número total de vigilantes em período integral contratados, considerando a necessidade de cinco dias consecutivos de trabalho.\n",
    "\n",
    "- **Parte B:** Minimiza o custo, utilizando uma combinação de vigilantes em período integral e meio período, com uma limitação no número de horas dos vigilantes de meio período.\n",
    "\n",
    "- **Parte C:** Maximiza o número de dias de folga nos finais de semana, respeitando o total de 49 vigilantes disponíveis e a demanda diária de cada dia da semana."
   ]
  },
  {
   "cell_type": "code",
   "execution_count": null,
   "metadata": {},
   "outputs": [],
   "source": []
  }
 ],
 "metadata": {
  "kernelspec": {
   "display_name": ".venv",
   "language": "python",
   "name": "python3"
  },
  "language_info": {
   "codemirror_mode": {
    "name": "ipython",
    "version": 3
   },
   "file_extension": ".py",
   "mimetype": "text/x-python",
   "name": "python",
   "nbconvert_exporter": "python",
   "pygments_lexer": "ipython3",
   "version": "3.12.3"
  }
 },
 "nbformat": 4,
 "nbformat_minor": 2
}
